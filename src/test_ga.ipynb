{
 "cells": [
  {
   "cell_type": "code",
   "execution_count": 194,
   "metadata": {},
   "outputs": [],
   "source": [
    "import pandas as pd\n",
    "from utils import *\n",
    "from sklearn.ensemble import RandomForestClassifier\n",
    "from tqdm.notebook import trange, tqdm\n",
    "from time import sleep\n",
    "from component_store import GeneticAlgorithmComponent\n",
    "import numpy as np\n",
    "from evaluation import *\n",
    "import matplotlib.pyplot as plt"
   ]
  },
  {
   "cell_type": "code",
   "execution_count": 284,
   "metadata": {},
   "outputs": [],
   "source": [
    "population_size = 10\n",
    "brackets_per_individual = 3\n",
    "test_brackets = 100"
   ]
  },
  {
   "cell_type": "markdown",
   "metadata": {},
   "source": [
    "# Internals"
   ]
  },
  {
   "cell_type": "code",
   "execution_count": 285,
   "metadata": {},
   "outputs": [
    {
     "name": "stderr",
     "output_type": "stream",
     "text": [
      "100%|██████████| 130/130 [00:28<00:00,  4.62it/s]"
     ]
    },
    {
     "name": "stdout",
     "output_type": "stream",
     "text": [
      "(130, 63)\n"
     ]
    },
    {
     "name": "stderr",
     "output_type": "stream",
     "text": [
      "\n"
     ]
    }
   ],
   "source": [
    "features = best_features\n",
    "\n",
    "results = run_pipe(2013, 2018, 2019, features)\n",
    "train_acc, test_acc, clf = results\n",
    "results\n",
    "features\n",
    "\n",
    "test_df = get_training_data([2019])\n",
    "test_X = column_selector(test_df, features)\n",
    "test_y = test_df['result']\n",
    "test_X\n",
    "test_year = 2019\n",
    "df = pd.read_csv(f\"{DATA_DIR}/cleaned_bracket_data.csv\", index_col=0)\n",
    "df = df[(df[\"year\"] == test_year) & (df[\"round\"] == 1)]\n",
    "start_team_names = df[[\"team1\", \"team2\"]].reset_index().melt(id_vars=['index'], value_vars=['team1', 'team2']).sort_values([\"index\", \"variable\"]).reset_index(drop=True)[\"value\"]\n",
    "start_team_names = pd.merge(start_team_names, df[[\"team1\", \"team1seed\"]], how=\"left\", left_on=\"value\", right_on=\"team1\").rename({\"team1seed\":\"SEED\"}, axis=1).drop(\"team1\", axis=1)\n",
    "start_team_names = pd.merge(start_team_names, df[[\"team2\", \"team2seed\"]], how=\"left\", left_on=\"value\", right_on=\"team2\").drop(\"team2\", axis=1)\n",
    "start_team_names.loc[start_team_names[\"SEED\"].isna(), \"SEED\"] = start_team_names[\"team2seed\"]\n",
    "start_team_names = start_team_names.drop(\"team2seed\", axis=1)\n",
    "\n",
    "raw_brackets = generate_brackets_np(clf, features, start_team_names, test_year, (population_size * brackets_per_individual)+test_brackets)\n",
    "print(raw_brackets.shape)"
   ]
  },
  {
   "cell_type": "code",
   "execution_count": 286,
   "metadata": {},
   "outputs": [
    {
     "data": {
      "text/plain": [
       "array([[[1., 0., 1., ..., 0., 1., 1.],\n",
       "        [0., 1., 0., ..., 1., 0., 0.],\n",
       "        [1., 0., 1., ..., 0., 0., 1.]],\n",
       "\n",
       "       [[1., 0., 0., ..., 0., 0., 0.],\n",
       "        [1., 0., 1., ..., 0., 1., 1.],\n",
       "        [1., 1., 0., ..., 0., 1., 0.]],\n",
       "\n",
       "       [[1., 1., 1., ..., 0., 0., 0.],\n",
       "        [1., 0., 1., ..., 1., 0., 1.],\n",
       "        [1., 0., 1., ..., 0., 0., 1.]],\n",
       "\n",
       "       ...,\n",
       "\n",
       "       [[1., 1., 1., ..., 1., 1., 1.],\n",
       "        [0., 0., 1., ..., 0., 1., 1.],\n",
       "        [1., 0., 0., ..., 0., 1., 0.]],\n",
       "\n",
       "       [[0., 1., 0., ..., 0., 0., 1.],\n",
       "        [0., 0., 0., ..., 0., 0., 0.],\n",
       "        [1., 1., 0., ..., 1., 1., 0.]],\n",
       "\n",
       "       [[1., 0., 0., ..., 1., 1., 1.],\n",
       "        [0., 0., 0., ..., 0., 0., 1.],\n",
       "        [1., 1., 1., ..., 1., 0., 0.]]])"
      ]
     },
     "execution_count": 286,
     "metadata": {},
     "output_type": "execute_result"
    }
   ],
   "source": [
    "brackets, test_set = raw_brackets[:-test_brackets], raw_brackets[-test_brackets:]\n",
    "brackets = brackets.reshape((population_size, brackets_per_individual, 63))\n",
    "brackets"
   ]
  },
  {
   "cell_type": "code",
   "execution_count": 287,
   "metadata": {},
   "outputs": [
    {
     "data": {
      "text/plain": [
       "(10, 3, 63)"
      ]
     },
     "execution_count": 287,
     "metadata": {},
     "output_type": "execute_result"
    }
   ],
   "source": [
    "init_pop = brackets.copy()\n",
    "init_pop.shape"
   ]
  },
  {
   "cell_type": "code",
   "execution_count": 288,
   "metadata": {},
   "outputs": [],
   "source": [
    "def eval_on_bracket(ind_true_bracket, init_pop):\n",
    "    ind_true_bracket = np.tile(ind_true_bracket, [init_pop.shape[0], init_pop.shape[1], 1])\n",
    "    results = init_pop == ind_true_bracket\n",
    "    population_size, brackets_per_individual, _ = init_pop.shape\n",
    "    preds = init_pop.copy()\n",
    "\n",
    "    rounds =  [i + 2 for i in range(5)]\n",
    "    round_lens = [16 // 2 ** (round - 2) for round in rounds]\n",
    "    start_inds = [32, 32+16, 32+16+8, 32+16+8+4, 32+16+8+4+2]\n",
    "\n",
    "    arr = []\n",
    "    for i in range(6):\n",
    "        arr = arr + [(2**i)]*(32//(2**i))\n",
    "    point_values = np.tile(np.array(arr), (population_size, brackets_per_individual, 1))\n",
    "\n",
    "\n",
    "    for round, round_len, start_ind in zip(rounds, round_lens, start_inds):\n",
    "        for game in [start_ind + i for i in range(round_len)]:\n",
    "            prereq_game_ind = (game-(2*round_len) + (game - start_ind) + (preds[:, :, game]).astype(int))#.reshape(2, 1, 1)\n",
    "            prereq_results = results[:, :, prereq_game_ind][np.arange(population_size), :, np.arange(population_size), :][:, np.arange(brackets_per_individual), np.arange(brackets_per_individual)].reshape(results[:, :, game].shape)\n",
    "            updated_results = np.logical_and(prereq_results, results[:, :, game])\n",
    "            results[:, :, game] = updated_results\n",
    "\n",
    "    fitness_per_individual = (point_values * results).sum(axis=2).max(axis=1)\n",
    "    return fitness_per_individual\n",
    "\n",
    "def fitness(init_pop, test_set):\n",
    "    # TODO: vectorize this to improve efficiency for larger test sets\n",
    "    return np.apply_along_axis(eval_on_bracket, 1, test_set, init_pop).mean(axis=0)\n",
    "\n",
    "def softmax(x, em=1):\n",
    "    em_x = x**em\n",
    "    e_x = np.exp(em_x - em_x.max())\n",
    "    return e_x / e_x.sum()\n",
    "\n",
    "def selection(population, fitnesses, num_elites=0, emphasis=1):\n",
    "    # print(softmax(fitnesses, emphasis))\n",
    "    pop_size = population.shape[0]\n",
    "    num_children_needed = population.shape[0] - num_elites\n",
    "    # print(pop_size, num_children_needed)\n",
    "    left_inds = np.random.choice(pop_size, num_children_needed, True, softmax(fitnesses, emphasis))\n",
    "    right_inds = np.random.choice(pop_size, num_children_needed, True, softmax(fitnesses, emphasis))\n",
    "    # print(left_inds)\n",
    "    return population[left_inds], population[right_inds]\n",
    "\n",
    "def combine(left_parents, right_parents):\n",
    "    mask = np.random.binomial(1, 0.5, left_parents.shape)\n",
    "    children = left_parents.copy()\n",
    "    children[mask == 1] = right_parents[mask == 1]\n",
    "    return children\n",
    "\n",
    "def mutate(init_pop, mutation_rate):\n",
    "    noise = np.random.binomial(1, mutation_rate, init_pop.shape)\n",
    "    new_pop = np.logical_xor(init_pop, noise).astype(int)\n",
    "    return new_pop\n",
    "\n",
    "def generation(population, test_set, num_elites=3, emph=0.75, mr=1/1000):\n",
    "    fitnesses = fitness(population, test_set)\n",
    "\n",
    "    left_parents, right_parents = selection(population, fitnesses, num_elites=num_elites, emphasis=emph)\n",
    "    children = mutate(combine(left_parents, right_parents), mutation_rate=mr)\n",
    "    # print(children.shape)\n",
    "    if num_elites > 0:\n",
    "        elite_inds = np.argsort(fitnesses)[-num_elites:]\n",
    "        elites = population[elite_inds]\n",
    "\n",
    "        new_population = np.concatenate((children, elites), axis=0)\n",
    "    else:\n",
    "        new_population = children\n",
    "    return new_population\n"
   ]
  },
  {
   "cell_type": "markdown",
   "metadata": {},
   "source": [
    "# run GA"
   ]
  },
  {
   "cell_type": "code",
   "execution_count": 289,
   "metadata": {},
   "outputs": [
    {
     "data": {
      "text/plain": [
       "(10, 3, 63)"
      ]
     },
     "execution_count": 289,
     "metadata": {},
     "output_type": "execute_result"
    }
   ],
   "source": [
    "init_pop.shape"
   ]
  },
  {
   "cell_type": "code",
   "execution_count": 290,
   "metadata": {},
   "outputs": [
    {
     "data": {
      "text/plain": [
       "(100, 63)"
      ]
     },
     "execution_count": 290,
     "metadata": {},
     "output_type": "execute_result"
    }
   ],
   "source": [
    "test_set.shape"
   ]
  },
  {
   "cell_type": "code",
   "execution_count": 352,
   "metadata": {},
   "outputs": [],
   "source": [
    "pop = init_pop.copy()\n",
    "best_fits = np.zeros((1))\n",
    "mean_fits = np.zeros((1))"
   ]
  },
  {
   "cell_type": "code",
   "execution_count": 353,
   "metadata": {},
   "outputs": [],
   "source": [
    "num_elites = 1\n",
    "emph = 0.75\n",
    "mr=1/1000\n",
    "test_subset_size = 40"
   ]
  },
  {
   "cell_type": "code",
   "execution_count": 357,
   "metadata": {},
   "outputs": [
    {
     "name": "stderr",
     "output_type": "stream",
     "text": [
      "100%|██████████| 2000/2000 [00:42<00:00, 47.45it/s]\n"
     ]
    }
   ],
   "source": [
    "\n",
    "num_gens = 2000\n",
    "for i in trange(num_gens):\n",
    "    test_subset_size = min(100, int(1/50 * i + 10))\n",
    "    mr = 1/(i+100)\n",
    "    test_subset = test_set[np.random.choice(np.arange(test_set.shape[0]), test_subset_size, False)]\n",
    "    pop = generation(pop, test_subset, num_elites=num_elites, emph=emph, mr=mr)\n",
    "    # print(fits[-1])\n",
    "    if i % 100 == 0:\n",
    "        fits = fitness(pop, test_set)\n",
    "        best_fits = np.concatenate((best_fits, [fits.max()]))\n",
    "        mean_fits = np.concatenate((mean_fits, [fits.mean()]))\n",
    "\n"
   ]
  },
  {
   "cell_type": "code",
   "execution_count": 358,
   "metadata": {},
   "outputs": [
    {
     "data": {
      "image/png": "[encoded data removed]",
      "text/plain": [
       "<Figure size 640x480 with 1 Axes>"
      ]
     },
     "metadata": {},
     "output_type": "display_data"
    }
   ],
   "source": [
    "\n",
    "plt.plot(np.arange(len(best_fits) - 1), best_fits[1:], label=\"Best Fitness\")\n",
    "plt.plot(np.arange(len(best_fits) - 1), mean_fits[1:], label=\"Average Fitness\")\n",
    "plt.xlabel(\"Generations\")\n",
    "plt.ylabel(\"Expected Best Bracket Score\")\n",
    "plt.legend()\n",
    "plt.show()"
   ]
  },
  {
   "cell_type": "code",
   "execution_count": 356,
   "metadata": {},
   "outputs": [
    {
     "name": "stdout",
     "output_type": "stream",
     "text": [
      "Expected Best Bracket Scores for 3 Brackets:\n",
      "50/50 chance:\t\t57.21\n",
      "Trained model alone:\t73.39\n",
      "Genetic Algorithm:\t95.5\n"
     ]
    }
   ],
   "source": [
    "expected_fitness_rand = np.round(fitness(np.random.binomial(1, 0.5, (100, 10, 63)), test_set).mean(), 2)\n",
    "expected_fitness_model = np.round(fitness(init_pop, test_set).mean(), 2)\n",
    "expected_fitness_ga = np.round(fitness(pop, test_set).mean(), 2)\n",
    "print(f\"Expected Best Bracket Scores for {brackets_per_individual} Brackets:\\n50/50 chance:\\t\\t{expected_fitness_rand}\\nTrained model alone:\\t{expected_fitness_model}\\nGenetic Algorithm:\\t{expected_fitness_ga}\")"
   ]
  },
  {
   "cell_type": "code",
   "execution_count": 332,
   "metadata": {},
   "outputs": [
    {
     "data": {
      "text/plain": [
       "(10, 63)"
      ]
     },
     "execution_count": 332,
     "metadata": {},
     "output_type": "execute_result"
    }
   ],
   "source": [
    "test_set[np.random.choice(np.arange(test_set.shape[0]), 10, False)].shape"
   ]
  },
  {
   "cell_type": "code",
   "execution_count": 333,
   "metadata": {},
   "outputs": [
    {
     "data": {
      "text/plain": [
       "73.388"
      ]
     },
     "execution_count": 333,
     "metadata": {},
     "output_type": "execute_result"
    }
   ],
   "source": [
    "fitness(init_pop, test_set).mean()"
   ]
  },
  {
   "cell_type": "code",
   "execution_count": 334,
   "metadata": {},
   "outputs": [
    {
     "data": {
      "text/plain": [
       "91.35300000000002"
      ]
     },
     "execution_count": 334,
     "metadata": {},
     "output_type": "execute_result"
    }
   ],
   "source": [
    "fitness(pop, test_set).mean()"
   ]
  },
  {
   "cell_type": "code",
   "execution_count": null,
   "metadata": {},
   "outputs": [],
   "source": []
  }
 ],
 "metadata": {
  "kernelspec": {
   "display_name": "madness",
   "language": "python",
   "name": "python3"
  },
  "language_info": {
   "codemirror_mode": {
    "name": "ipython",
    "version": 3
   },
   "file_extension": ".py",
   "mimetype": "text/x-python",
   "name": "python",
   "nbconvert_exporter": "python",
   "pygments_lexer": "ipython3",
   "version": "3.8.16"
  }
 },
 "nbformat": 4,
 "nbformat_minor": 2
}
