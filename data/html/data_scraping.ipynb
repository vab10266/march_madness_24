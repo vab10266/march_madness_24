{
 "cells": [
  {
   "cell_type": "code",
   "execution_count": null,
   "metadata": {},
   "outputs": [],
   "source": [
    "# ! pip install beautifulsoup4"
   ]
  },
  {
   "cell_type": "markdown",
   "metadata": {},
   "source": [
    "https://kenpom.com/"
   ]
  },
  {
   "cell_type": "code",
   "execution_count": null,
   "metadata": {},
   "outputs": [],
   "source": [
    "import os\n",
    "import sys\n",
    "import pandas as pd\n",
    "from bs4 import BeautifulSoup"
   ]
  },
  {
   "cell_type": "code",
   "execution_count": null,
   "metadata": {},
   "outputs": [],
   "source": [
    "def html2csv(year):\n",
    "    path = f'{year}.html'\n",
    "    # empty list\n",
    "    data = []\n",
    "    \n",
    "    # for getting the header from\n",
    "    # the HTML file\n",
    "    list_header = []\n",
    "    soup = BeautifulSoup(open(path),'html.parser')\n",
    "    header = soup.find_all(\"table\")[0].find(\"tr\")\n",
    "    \n",
    "    for items in header:\n",
    "        try:\n",
    "            list_header.append(items.get_text())\n",
    "        except:\n",
    "            continue\n",
    "    \n",
    "    # for getting the data \n",
    "    HTML_data = soup.find_all(\"table\")[0].find_all(\"tr\")[1:]\n",
    "    \n",
    "    for element in HTML_data:\n",
    "        sub_data = []\n",
    "        for sub_element in element:\n",
    "            try:\n",
    "                sub_data.append(sub_element.get_text())\n",
    "            except:\n",
    "                continue\n",
    "        data.append(sub_data)\n",
    "    \n",
    "    columns = [\n",
    "        'RK',\n",
    "        'TEAM',\n",
    "        'CONF',\n",
    "        'W-L', \n",
    "        'ADJEM', \n",
    "        'ADJOE', 'ADJOE_R', \n",
    "        'ADJDE', 'ADJDE_R',\n",
    "        'ADJ_T', 'ADJ_T_R',\n",
    "        'Luck', 'Luck_R',\n",
    "        'SOS', 'SOS_R',\n",
    "        'OppO', 'OppO_R',\n",
    "        'OppD', 'OppD_R',\n",
    "        'NCSOS', 'NCSOS_R'\n",
    "    ]\n",
    "    int_cols = [\n",
    "        'RK',\n",
    "        'ADJOE_R', \n",
    "        'ADJDE_R',\n",
    "        'ADJ_T_R',\n",
    "        'Luck_R',\n",
    "        'SOS_R',\n",
    "        'OppO_R',\n",
    "        'OppD_R',\n",
    "        'NCSOS_R'\n",
    "    ]\n",
    "    float_cols = [\n",
    "        'ADJEM', \n",
    "        'ADJOE', \n",
    "        'ADJDE', \n",
    "        'ADJ_T', \n",
    "        'Luck', \n",
    "        'SOS', \n",
    "        'OppO', \n",
    "        'OppD', \n",
    "        'NCSOS', \n",
    "    ]\n",
    "    \n",
    "    for i in range(len(data)):\n",
    "        data[i] = [x for x in data[i] if x != \"\\n\" and x != \"\"]\n",
    "        data[i] = [x if '*' not in x else ''.join(x.split(' ')[:-1]) for x in data[i]]\n",
    "    data = [x for x in data if len(x) == 21]\n",
    "\n",
    "    df = pd.DataFrame(data = data, columns = columns)\n",
    "    def fix_ints(s):\n",
    "        return ' '.join([x for x in ''.join([i for i in s if not i.isdigit()]).split(' ') if x != ''])\n",
    "    df['TEAM'] = df['TEAM'].apply(fix_ints)\n",
    "\n",
    "    df[int_cols] = df[int_cols].astype(int)\n",
    "    df[float_cols] = df[float_cols].astype(float)\n",
    "    df[\"YEAR\"] = year\n",
    "    def get_wins(s):\n",
    "        return int(s.split('-')[0])\n",
    "    def get_losses(s):\n",
    "        return int(s.split('-')[1])\n",
    "    def get_games(s):\n",
    "        return int(s.split('-')[0]) + int(s.split('-')[1])\n",
    "    df['W'] = df['W-L'].apply(get_wins)\n",
    "    df['L'] = df['W-L'].apply(get_losses)\n",
    "    df['G'] = df['W-L'].apply(get_games)\n",
    "    return df"
   ]
  },
  {
   "cell_type": "code",
   "execution_count": null,
   "metadata": {},
   "outputs": [],
   "source": [
    "all_df = None\n",
    "for i in range(23):\n",
    "    df = html2csv(2002 + i)\n",
    "    all_df = pd.concat((all_df, df), axis=0)\n",
    "all_df"
   ]
  },
  {
   "cell_type": "code",
   "execution_count": null,
   "metadata": {},
   "outputs": [],
   "source": [
    "all_df.to_csv('kenpom.csv', index = False)"
   ]
  },
  {
   "cell_type": "code",
   "execution_count": null,
   "metadata": {},
   "outputs": [],
   "source": [
    "df.dtypes"
   ]
  },
  {
   "cell_type": "code",
   "execution_count": null,
   "metadata": {},
   "outputs": [],
   "source": [
    "df"
   ]
  },
  {
   "cell_type": "code",
   "execution_count": null,
   "metadata": {},
   "outputs": [],
   "source": []
  }
 ],
 "metadata": {
  "kernelspec": {
   "display_name": "madness",
   "language": "python",
   "name": "python3"
  },
  "language_info": {
   "codemirror_mode": {
    "name": "ipython",
    "version": 3
   },
   "file_extension": ".py",
   "mimetype": "text/x-python",
   "name": "python",
   "nbconvert_exporter": "python",
   "pygments_lexer": "ipython3",
   "version": "3.8.16"
  }
 },
 "nbformat": 4,
 "nbformat_minor": 2
}
